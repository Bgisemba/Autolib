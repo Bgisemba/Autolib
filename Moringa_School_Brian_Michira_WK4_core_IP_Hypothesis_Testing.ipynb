{
  "nbformat": 4,
  "nbformat_minor": 0,
  "metadata": {
    "colab": {
      "name": "Moringa_School_Brian_Michira_WK4_core_IP_Hypothesis Testing",
      "provenance": [],
      "collapsed_sections": [],
      "authorship_tag": "ABX9TyO12vza6tn3sXcaDAo4sPHo",
      "include_colab_link": true
    },
    "kernelspec": {
      "name": "python3",
      "display_name": "Python 3"
    },
    "language_info": {
      "name": "python"
    }
  },
  "cells": [
    {
      "cell_type": "markdown",
      "metadata": {
        "id": "view-in-github",
        "colab_type": "text"
      },
      "source": [
        "<a href=\"https://colab.research.google.com/github/BrianGisemba/Autolib/blob/main/Moringa_School_Brian_Michira_WK4_core_IP_Hypothesis_Testing.ipynb\" target=\"_parent\"><img src=\"https://colab.research.google.com/assets/colab-badge.svg\" alt=\"Open In Colab\"/></a>"
      ]
    },
    {
      "cell_type": "markdown",
      "metadata": {
        "id": "8JU0v5QWTq5f"
      },
      "source": [
        "RESEARCH QUESTION\n",
        "\n",
        "To determine if there is a significant difference in the means of bluecares taken in two different postal codes."
      ]
    },
    {
      "cell_type": "markdown",
      "metadata": {
        "id": "NL2gKYZIcQiV"
      },
      "source": [
        "###IMPORTING LIBRARIES"
      ]
    },
    {
      "cell_type": "code",
      "metadata": {
        "id": "bKM5wRar__Zr"
      },
      "source": [
        "#importing libraries\n",
        "import pandas as pd\n",
        "import numpy as np\n",
        "import seaborn as sns\n",
        "import matplotlib\n",
        "from matplotlib import pyplot as plt\n",
        "%matplotlib inline"
      ],
      "execution_count": 1,
      "outputs": []
    },
    {
      "cell_type": "markdown",
      "metadata": {
        "id": "I8RawdhDcX9Y"
      },
      "source": [
        "###LOADING AND PREVIEWING THE DATASET"
      ]
    },
    {
      "cell_type": "code",
      "metadata": {
        "id": "gC2acTeqAMTp"
      },
      "source": [
        "#loadind dataset\n",
        "autolib=pd.read_csv(\"/content/autolib_daily_events_postal_code.csv\")\n"
      ],
      "execution_count": 2,
      "outputs": []
    },
    {
      "cell_type": "code",
      "metadata": {
        "colab": {
          "base_uri": "https://localhost:8080/",
          "height": 236
        },
        "id": "54b7XEPKBs2-",
        "outputId": "75ced8ff-6159-4ce1-99a0-3778a8d6edd8"
      },
      "source": [
        "#previewing the top\n",
        "autolib.head()"
      ],
      "execution_count": 3,
      "outputs": [
        {
          "output_type": "execute_result",
          "data": {
            "text/html": [
              "<div>\n",
              "<style scoped>\n",
              "    .dataframe tbody tr th:only-of-type {\n",
              "        vertical-align: middle;\n",
              "    }\n",
              "\n",
              "    .dataframe tbody tr th {\n",
              "        vertical-align: top;\n",
              "    }\n",
              "\n",
              "    .dataframe thead th {\n",
              "        text-align: right;\n",
              "    }\n",
              "</style>\n",
              "<table border=\"1\" class=\"dataframe\">\n",
              "  <thead>\n",
              "    <tr style=\"text-align: right;\">\n",
              "      <th></th>\n",
              "      <th>Postal code</th>\n",
              "      <th>date</th>\n",
              "      <th>n_daily_data_points</th>\n",
              "      <th>dayOfWeek</th>\n",
              "      <th>day_type</th>\n",
              "      <th>BlueCars_taken_sum</th>\n",
              "      <th>BlueCars_returned_sum</th>\n",
              "      <th>Utilib_taken_sum</th>\n",
              "      <th>Utilib_returned_sum</th>\n",
              "      <th>Utilib_14_taken_sum</th>\n",
              "      <th>Utilib_14_returned_sum</th>\n",
              "      <th>Slots_freed_sum</th>\n",
              "      <th>Slots_taken_sum</th>\n",
              "    </tr>\n",
              "  </thead>\n",
              "  <tbody>\n",
              "    <tr>\n",
              "      <th>0</th>\n",
              "      <td>75001</td>\n",
              "      <td>1/1/2018</td>\n",
              "      <td>1440</td>\n",
              "      <td>0</td>\n",
              "      <td>weekday</td>\n",
              "      <td>110</td>\n",
              "      <td>103</td>\n",
              "      <td>3</td>\n",
              "      <td>2</td>\n",
              "      <td>10</td>\n",
              "      <td>9</td>\n",
              "      <td>22</td>\n",
              "      <td>20</td>\n",
              "    </tr>\n",
              "    <tr>\n",
              "      <th>1</th>\n",
              "      <td>75001</td>\n",
              "      <td>1/2/2018</td>\n",
              "      <td>1438</td>\n",
              "      <td>1</td>\n",
              "      <td>weekday</td>\n",
              "      <td>98</td>\n",
              "      <td>94</td>\n",
              "      <td>1</td>\n",
              "      <td>1</td>\n",
              "      <td>8</td>\n",
              "      <td>8</td>\n",
              "      <td>23</td>\n",
              "      <td>22</td>\n",
              "    </tr>\n",
              "    <tr>\n",
              "      <th>2</th>\n",
              "      <td>75001</td>\n",
              "      <td>1/3/2018</td>\n",
              "      <td>1439</td>\n",
              "      <td>2</td>\n",
              "      <td>weekday</td>\n",
              "      <td>138</td>\n",
              "      <td>139</td>\n",
              "      <td>0</td>\n",
              "      <td>0</td>\n",
              "      <td>2</td>\n",
              "      <td>2</td>\n",
              "      <td>27</td>\n",
              "      <td>27</td>\n",
              "    </tr>\n",
              "    <tr>\n",
              "      <th>3</th>\n",
              "      <td>75001</td>\n",
              "      <td>1/4/2018</td>\n",
              "      <td>1320</td>\n",
              "      <td>3</td>\n",
              "      <td>weekday</td>\n",
              "      <td>104</td>\n",
              "      <td>104</td>\n",
              "      <td>2</td>\n",
              "      <td>2</td>\n",
              "      <td>9</td>\n",
              "      <td>8</td>\n",
              "      <td>25</td>\n",
              "      <td>21</td>\n",
              "    </tr>\n",
              "    <tr>\n",
              "      <th>4</th>\n",
              "      <td>75001</td>\n",
              "      <td>1/5/2018</td>\n",
              "      <td>1440</td>\n",
              "      <td>4</td>\n",
              "      <td>weekday</td>\n",
              "      <td>114</td>\n",
              "      <td>117</td>\n",
              "      <td>3</td>\n",
              "      <td>3</td>\n",
              "      <td>6</td>\n",
              "      <td>6</td>\n",
              "      <td>18</td>\n",
              "      <td>20</td>\n",
              "    </tr>\n",
              "  </tbody>\n",
              "</table>\n",
              "</div>"
            ],
            "text/plain": [
              "   Postal code      date  ...  Slots_freed_sum  Slots_taken_sum\n",
              "0        75001  1/1/2018  ...               22               20\n",
              "1        75001  1/2/2018  ...               23               22\n",
              "2        75001  1/3/2018  ...               27               27\n",
              "3        75001  1/4/2018  ...               25               21\n",
              "4        75001  1/5/2018  ...               18               20\n",
              "\n",
              "[5 rows x 13 columns]"
            ]
          },
          "metadata": {
            "tags": []
          },
          "execution_count": 3
        }
      ]
    },
    {
      "cell_type": "code",
      "metadata": {
        "colab": {
          "base_uri": "https://localhost:8080/",
          "height": 236
        },
        "id": "cxpBInzcB5c3",
        "outputId": "e6242ec1-ba1c-4d2e-e92d-7d2a013b5db7"
      },
      "source": [
        "#previewing the bottom\n",
        "autolib.tail()"
      ],
      "execution_count": 4,
      "outputs": [
        {
          "output_type": "execute_result",
          "data": {
            "text/html": [
              "<div>\n",
              "<style scoped>\n",
              "    .dataframe tbody tr th:only-of-type {\n",
              "        vertical-align: middle;\n",
              "    }\n",
              "\n",
              "    .dataframe tbody tr th {\n",
              "        vertical-align: top;\n",
              "    }\n",
              "\n",
              "    .dataframe thead th {\n",
              "        text-align: right;\n",
              "    }\n",
              "</style>\n",
              "<table border=\"1\" class=\"dataframe\">\n",
              "  <thead>\n",
              "    <tr style=\"text-align: right;\">\n",
              "      <th></th>\n",
              "      <th>Postal code</th>\n",
              "      <th>date</th>\n",
              "      <th>n_daily_data_points</th>\n",
              "      <th>dayOfWeek</th>\n",
              "      <th>day_type</th>\n",
              "      <th>BlueCars_taken_sum</th>\n",
              "      <th>BlueCars_returned_sum</th>\n",
              "      <th>Utilib_taken_sum</th>\n",
              "      <th>Utilib_returned_sum</th>\n",
              "      <th>Utilib_14_taken_sum</th>\n",
              "      <th>Utilib_14_returned_sum</th>\n",
              "      <th>Slots_freed_sum</th>\n",
              "      <th>Slots_taken_sum</th>\n",
              "    </tr>\n",
              "  </thead>\n",
              "  <tbody>\n",
              "    <tr>\n",
              "      <th>16080</th>\n",
              "      <td>95880</td>\n",
              "      <td>6/15/2018</td>\n",
              "      <td>1440</td>\n",
              "      <td>4</td>\n",
              "      <td>weekday</td>\n",
              "      <td>15</td>\n",
              "      <td>10</td>\n",
              "      <td>0</td>\n",
              "      <td>0</td>\n",
              "      <td>2</td>\n",
              "      <td>3</td>\n",
              "      <td>0</td>\n",
              "      <td>0</td>\n",
              "    </tr>\n",
              "    <tr>\n",
              "      <th>16081</th>\n",
              "      <td>95880</td>\n",
              "      <td>6/16/2018</td>\n",
              "      <td>1440</td>\n",
              "      <td>5</td>\n",
              "      <td>weekend</td>\n",
              "      <td>19</td>\n",
              "      <td>19</td>\n",
              "      <td>0</td>\n",
              "      <td>0</td>\n",
              "      <td>2</td>\n",
              "      <td>1</td>\n",
              "      <td>0</td>\n",
              "      <td>0</td>\n",
              "    </tr>\n",
              "    <tr>\n",
              "      <th>16082</th>\n",
              "      <td>95880</td>\n",
              "      <td>6/17/2018</td>\n",
              "      <td>1440</td>\n",
              "      <td>6</td>\n",
              "      <td>weekend</td>\n",
              "      <td>33</td>\n",
              "      <td>35</td>\n",
              "      <td>1</td>\n",
              "      <td>1</td>\n",
              "      <td>0</td>\n",
              "      <td>0</td>\n",
              "      <td>0</td>\n",
              "      <td>0</td>\n",
              "    </tr>\n",
              "    <tr>\n",
              "      <th>16083</th>\n",
              "      <td>95880</td>\n",
              "      <td>6/18/2018</td>\n",
              "      <td>1440</td>\n",
              "      <td>0</td>\n",
              "      <td>weekday</td>\n",
              "      <td>11</td>\n",
              "      <td>14</td>\n",
              "      <td>3</td>\n",
              "      <td>5</td>\n",
              "      <td>2</td>\n",
              "      <td>2</td>\n",
              "      <td>0</td>\n",
              "      <td>0</td>\n",
              "    </tr>\n",
              "    <tr>\n",
              "      <th>16084</th>\n",
              "      <td>95880</td>\n",
              "      <td>6/19/2018</td>\n",
              "      <td>1370</td>\n",
              "      <td>1</td>\n",
              "      <td>weekday</td>\n",
              "      <td>2</td>\n",
              "      <td>2</td>\n",
              "      <td>2</td>\n",
              "      <td>1</td>\n",
              "      <td>0</td>\n",
              "      <td>0</td>\n",
              "      <td>0</td>\n",
              "      <td>0</td>\n",
              "    </tr>\n",
              "  </tbody>\n",
              "</table>\n",
              "</div>"
            ],
            "text/plain": [
              "       Postal code       date  ...  Slots_freed_sum  Slots_taken_sum\n",
              "16080        95880  6/15/2018  ...                0                0\n",
              "16081        95880  6/16/2018  ...                0                0\n",
              "16082        95880  6/17/2018  ...                0                0\n",
              "16083        95880  6/18/2018  ...                0                0\n",
              "16084        95880  6/19/2018  ...                0                0\n",
              "\n",
              "[5 rows x 13 columns]"
            ]
          },
          "metadata": {
            "tags": []
          },
          "execution_count": 4
        }
      ]
    },
    {
      "cell_type": "code",
      "metadata": {
        "colab": {
          "base_uri": "https://localhost:8080/"
        },
        "id": "fJsFzH8NCA8C",
        "outputId": "f864e80e-71ae-4eab-eb93-ba388f894ed6"
      },
      "source": [
        "#data info\n",
        "autolib.info()"
      ],
      "execution_count": 5,
      "outputs": [
        {
          "output_type": "stream",
          "text": [
            "<class 'pandas.core.frame.DataFrame'>\n",
            "RangeIndex: 16085 entries, 0 to 16084\n",
            "Data columns (total 13 columns):\n",
            " #   Column                  Non-Null Count  Dtype \n",
            "---  ------                  --------------  ----- \n",
            " 0   Postal code             16085 non-null  int64 \n",
            " 1   date                    16085 non-null  object\n",
            " 2   n_daily_data_points     16085 non-null  int64 \n",
            " 3   dayOfWeek               16085 non-null  int64 \n",
            " 4   day_type                16085 non-null  object\n",
            " 5   BlueCars_taken_sum      16085 non-null  int64 \n",
            " 6   BlueCars_returned_sum   16085 non-null  int64 \n",
            " 7   Utilib_taken_sum        16085 non-null  int64 \n",
            " 8   Utilib_returned_sum     16085 non-null  int64 \n",
            " 9   Utilib_14_taken_sum     16085 non-null  int64 \n",
            " 10  Utilib_14_returned_sum  16085 non-null  int64 \n",
            " 11  Slots_freed_sum         16085 non-null  int64 \n",
            " 12  Slots_taken_sum         16085 non-null  int64 \n",
            "dtypes: int64(11), object(2)\n",
            "memory usage: 1.6+ MB\n"
          ],
          "name": "stdout"
        }
      ]
    },
    {
      "cell_type": "markdown",
      "metadata": {
        "id": "0opw7iM4CTvv"
      },
      "source": [
        "###CLEANING \n"
      ]
    },
    {
      "cell_type": "code",
      "metadata": {
        "id": "kCB2icJiCast"
      },
      "source": [
        "#dropping irrelevant columns\n",
        "col=[ 'Utilib_taken_sum','Utilib_returned_sum', 'Utilib_14_taken_sum', 'Utilib_14_returned_sum']\n",
        "autolib.drop(col,axis=1,inplace=True)"
      ],
      "execution_count": 6,
      "outputs": []
    },
    {
      "cell_type": "code",
      "metadata": {
        "colab": {
          "base_uri": "https://localhost:8080/",
          "height": 200
        },
        "id": "KO9B8BgXC1vf",
        "outputId": "260c4fab-e091-420b-e5a3-d73182406858"
      },
      "source": [
        "#viewing the dataset after dropping the column\n",
        "autolib.head()"
      ],
      "execution_count": 7,
      "outputs": [
        {
          "output_type": "execute_result",
          "data": {
            "text/html": [
              "<div>\n",
              "<style scoped>\n",
              "    .dataframe tbody tr th:only-of-type {\n",
              "        vertical-align: middle;\n",
              "    }\n",
              "\n",
              "    .dataframe tbody tr th {\n",
              "        vertical-align: top;\n",
              "    }\n",
              "\n",
              "    .dataframe thead th {\n",
              "        text-align: right;\n",
              "    }\n",
              "</style>\n",
              "<table border=\"1\" class=\"dataframe\">\n",
              "  <thead>\n",
              "    <tr style=\"text-align: right;\">\n",
              "      <th></th>\n",
              "      <th>Postal code</th>\n",
              "      <th>date</th>\n",
              "      <th>n_daily_data_points</th>\n",
              "      <th>dayOfWeek</th>\n",
              "      <th>day_type</th>\n",
              "      <th>BlueCars_taken_sum</th>\n",
              "      <th>BlueCars_returned_sum</th>\n",
              "      <th>Slots_freed_sum</th>\n",
              "      <th>Slots_taken_sum</th>\n",
              "    </tr>\n",
              "  </thead>\n",
              "  <tbody>\n",
              "    <tr>\n",
              "      <th>0</th>\n",
              "      <td>75001</td>\n",
              "      <td>1/1/2018</td>\n",
              "      <td>1440</td>\n",
              "      <td>0</td>\n",
              "      <td>weekday</td>\n",
              "      <td>110</td>\n",
              "      <td>103</td>\n",
              "      <td>22</td>\n",
              "      <td>20</td>\n",
              "    </tr>\n",
              "    <tr>\n",
              "      <th>1</th>\n",
              "      <td>75001</td>\n",
              "      <td>1/2/2018</td>\n",
              "      <td>1438</td>\n",
              "      <td>1</td>\n",
              "      <td>weekday</td>\n",
              "      <td>98</td>\n",
              "      <td>94</td>\n",
              "      <td>23</td>\n",
              "      <td>22</td>\n",
              "    </tr>\n",
              "    <tr>\n",
              "      <th>2</th>\n",
              "      <td>75001</td>\n",
              "      <td>1/3/2018</td>\n",
              "      <td>1439</td>\n",
              "      <td>2</td>\n",
              "      <td>weekday</td>\n",
              "      <td>138</td>\n",
              "      <td>139</td>\n",
              "      <td>27</td>\n",
              "      <td>27</td>\n",
              "    </tr>\n",
              "    <tr>\n",
              "      <th>3</th>\n",
              "      <td>75001</td>\n",
              "      <td>1/4/2018</td>\n",
              "      <td>1320</td>\n",
              "      <td>3</td>\n",
              "      <td>weekday</td>\n",
              "      <td>104</td>\n",
              "      <td>104</td>\n",
              "      <td>25</td>\n",
              "      <td>21</td>\n",
              "    </tr>\n",
              "    <tr>\n",
              "      <th>4</th>\n",
              "      <td>75001</td>\n",
              "      <td>1/5/2018</td>\n",
              "      <td>1440</td>\n",
              "      <td>4</td>\n",
              "      <td>weekday</td>\n",
              "      <td>114</td>\n",
              "      <td>117</td>\n",
              "      <td>18</td>\n",
              "      <td>20</td>\n",
              "    </tr>\n",
              "  </tbody>\n",
              "</table>\n",
              "</div>"
            ],
            "text/plain": [
              "   Postal code      date  ...  Slots_freed_sum  Slots_taken_sum\n",
              "0        75001  1/1/2018  ...               22               20\n",
              "1        75001  1/2/2018  ...               23               22\n",
              "2        75001  1/3/2018  ...               27               27\n",
              "3        75001  1/4/2018  ...               25               21\n",
              "4        75001  1/5/2018  ...               18               20\n",
              "\n",
              "[5 rows x 9 columns]"
            ]
          },
          "metadata": {
            "tags": []
          },
          "execution_count": 7
        }
      ]
    },
    {
      "cell_type": "code",
      "metadata": {
        "colab": {
          "base_uri": "https://localhost:8080/"
        },
        "id": "xnAAr3CoDTBm",
        "outputId": "499fbfe1-1af8-44b9-e5f7-6fdcfbb36f9e"
      },
      "source": [
        "# standardizing the columns \n",
        "autolib.columns = autolib.columns.str.strip().str.lower().str.replace(' ', '_').str.replace('(', '').str.replace(')', '')\n",
        "autolib.columns"
      ],
      "execution_count": 8,
      "outputs": [
        {
          "output_type": "execute_result",
          "data": {
            "text/plain": [
              "Index(['postal_code', 'date', 'n_daily_data_points', 'dayofweek', 'day_type',\n",
              "       'bluecars_taken_sum', 'bluecars_returned_sum', 'slots_freed_sum',\n",
              "       'slots_taken_sum'],\n",
              "      dtype='object')"
            ]
          },
          "metadata": {
            "tags": []
          },
          "execution_count": 8
        }
      ]
    },
    {
      "cell_type": "code",
      "metadata": {
        "id": "75TnPxkvDVvK"
      },
      "source": [
        "#Changing date column from object to datetime\n",
        "autolib['date'] = pd.to_datetime(autolib['date'])"
      ],
      "execution_count": 9,
      "outputs": []
    },
    {
      "cell_type": "code",
      "metadata": {
        "colab": {
          "base_uri": "https://localhost:8080/",
          "height": 200
        },
        "id": "Tlhl8L-uD2Yt",
        "outputId": "3924caf1-9e05-4999-c5ef-9c161aad97db"
      },
      "source": [
        "#Creating a new column week_day with day of week in words\n",
        "day = {0:'Mon',1:'Tue',2:'Wed',3:'Thur',4:'Fri',5:'Sat',6:'Sun'}\n",
        "autolib['week_day']  = autolib['dayofweek'].map(day)\n",
        "autolib.head()"
      ],
      "execution_count": 10,
      "outputs": [
        {
          "output_type": "execute_result",
          "data": {
            "text/html": [
              "<div>\n",
              "<style scoped>\n",
              "    .dataframe tbody tr th:only-of-type {\n",
              "        vertical-align: middle;\n",
              "    }\n",
              "\n",
              "    .dataframe tbody tr th {\n",
              "        vertical-align: top;\n",
              "    }\n",
              "\n",
              "    .dataframe thead th {\n",
              "        text-align: right;\n",
              "    }\n",
              "</style>\n",
              "<table border=\"1\" class=\"dataframe\">\n",
              "  <thead>\n",
              "    <tr style=\"text-align: right;\">\n",
              "      <th></th>\n",
              "      <th>postal_code</th>\n",
              "      <th>date</th>\n",
              "      <th>n_daily_data_points</th>\n",
              "      <th>dayofweek</th>\n",
              "      <th>day_type</th>\n",
              "      <th>bluecars_taken_sum</th>\n",
              "      <th>bluecars_returned_sum</th>\n",
              "      <th>slots_freed_sum</th>\n",
              "      <th>slots_taken_sum</th>\n",
              "      <th>week_day</th>\n",
              "    </tr>\n",
              "  </thead>\n",
              "  <tbody>\n",
              "    <tr>\n",
              "      <th>0</th>\n",
              "      <td>75001</td>\n",
              "      <td>2018-01-01</td>\n",
              "      <td>1440</td>\n",
              "      <td>0</td>\n",
              "      <td>weekday</td>\n",
              "      <td>110</td>\n",
              "      <td>103</td>\n",
              "      <td>22</td>\n",
              "      <td>20</td>\n",
              "      <td>Mon</td>\n",
              "    </tr>\n",
              "    <tr>\n",
              "      <th>1</th>\n",
              "      <td>75001</td>\n",
              "      <td>2018-01-02</td>\n",
              "      <td>1438</td>\n",
              "      <td>1</td>\n",
              "      <td>weekday</td>\n",
              "      <td>98</td>\n",
              "      <td>94</td>\n",
              "      <td>23</td>\n",
              "      <td>22</td>\n",
              "      <td>Tue</td>\n",
              "    </tr>\n",
              "    <tr>\n",
              "      <th>2</th>\n",
              "      <td>75001</td>\n",
              "      <td>2018-01-03</td>\n",
              "      <td>1439</td>\n",
              "      <td>2</td>\n",
              "      <td>weekday</td>\n",
              "      <td>138</td>\n",
              "      <td>139</td>\n",
              "      <td>27</td>\n",
              "      <td>27</td>\n",
              "      <td>Wed</td>\n",
              "    </tr>\n",
              "    <tr>\n",
              "      <th>3</th>\n",
              "      <td>75001</td>\n",
              "      <td>2018-01-04</td>\n",
              "      <td>1320</td>\n",
              "      <td>3</td>\n",
              "      <td>weekday</td>\n",
              "      <td>104</td>\n",
              "      <td>104</td>\n",
              "      <td>25</td>\n",
              "      <td>21</td>\n",
              "      <td>Thur</td>\n",
              "    </tr>\n",
              "    <tr>\n",
              "      <th>4</th>\n",
              "      <td>75001</td>\n",
              "      <td>2018-01-05</td>\n",
              "      <td>1440</td>\n",
              "      <td>4</td>\n",
              "      <td>weekday</td>\n",
              "      <td>114</td>\n",
              "      <td>117</td>\n",
              "      <td>18</td>\n",
              "      <td>20</td>\n",
              "      <td>Fri</td>\n",
              "    </tr>\n",
              "  </tbody>\n",
              "</table>\n",
              "</div>"
            ],
            "text/plain": [
              "   postal_code       date  ...  slots_taken_sum  week_day\n",
              "0        75001 2018-01-01  ...               20       Mon\n",
              "1        75001 2018-01-02  ...               22       Tue\n",
              "2        75001 2018-01-03  ...               27       Wed\n",
              "3        75001 2018-01-04  ...               21      Thur\n",
              "4        75001 2018-01-05  ...               20       Fri\n",
              "\n",
              "[5 rows x 10 columns]"
            ]
          },
          "metadata": {
            "tags": []
          },
          "execution_count": 10
        }
      ]
    },
    {
      "cell_type": "code",
      "metadata": {
        "colab": {
          "base_uri": "https://localhost:8080/"
        },
        "id": "sl-WeJrMIy2c",
        "outputId": "af45fb22-1294-4ba1-c911-414d6ab9272b"
      },
      "source": [
        "#checking for missing values\n",
        "autolib.isnull().sum()"
      ],
      "execution_count": 11,
      "outputs": [
        {
          "output_type": "execute_result",
          "data": {
            "text/plain": [
              "postal_code              0\n",
              "date                     0\n",
              "n_daily_data_points      0\n",
              "dayofweek                0\n",
              "day_type                 0\n",
              "bluecars_taken_sum       0\n",
              "bluecars_returned_sum    0\n",
              "slots_freed_sum          0\n",
              "slots_taken_sum          0\n",
              "week_day                 0\n",
              "dtype: int64"
            ]
          },
          "metadata": {
            "tags": []
          },
          "execution_count": 11
        }
      ]
    },
    {
      "cell_type": "markdown",
      "metadata": {
        "id": "8BjPGrwRcudF"
      },
      "source": [
        "There are no missing values"
      ]
    },
    {
      "cell_type": "code",
      "metadata": {
        "colab": {
          "base_uri": "https://localhost:8080/"
        },
        "id": "7XaUTnigoS6K",
        "outputId": "dec9ccb1-5491-41d1-b80b-76c67ac4493c"
      },
      "source": [
        "#checking for duplicates\n",
        "autolib.duplicated().sum()"
      ],
      "execution_count": 12,
      "outputs": [
        {
          "output_type": "execute_result",
          "data": {
            "text/plain": [
              "0"
            ]
          },
          "metadata": {
            "tags": []
          },
          "execution_count": 12
        }
      ]
    },
    {
      "cell_type": "markdown",
      "metadata": {
        "id": "wnsuUxnkc5Av"
      },
      "source": [
        "There are no duplicates"
      ]
    },
    {
      "cell_type": "code",
      "metadata": {
        "colab": {
          "base_uri": "https://localhost:8080/",
          "height": 408
        },
        "id": "O5hbQJsooftd",
        "outputId": "c15a2060-e5a2-47b9-be80-4260848c2b93"
      },
      "source": [
        "#checking for outliers\n",
        "# Calculating our first, third quantiles and then later our IQR\n",
        "# ---\n",
        "autolib_num=autolib[['bluecars_taken_sum','bluecars_returned_sum','slots_freed_sum','slots_taken_sum']]\n",
        "Q1 = autolib_num.quantile(0.25)\n",
        "Q3 = autolib_num.quantile(0.75)\n",
        "IQR = Q3 - Q1\n",
        "\n",
        "# Removing outliers based on the IQR range and stores the result in the data frame 'df_out'\n",
        "# ---\n",
        "# \n",
        "autolib_out = autolib_num[~((autolib_num < (Q1 - 1.5 * IQR)) | (autolib_num > (Q3 + 1.5 * IQR))).any(axis=1)]\n",
        "autolib_out"
      ],
      "execution_count": 13,
      "outputs": [
        {
          "output_type": "execute_result",
          "data": {
            "text/html": [
              "<div>\n",
              "<style scoped>\n",
              "    .dataframe tbody tr th:only-of-type {\n",
              "        vertical-align: middle;\n",
              "    }\n",
              "\n",
              "    .dataframe tbody tr th {\n",
              "        vertical-align: top;\n",
              "    }\n",
              "\n",
              "    .dataframe thead th {\n",
              "        text-align: right;\n",
              "    }\n",
              "</style>\n",
              "<table border=\"1\" class=\"dataframe\">\n",
              "  <thead>\n",
              "    <tr style=\"text-align: right;\">\n",
              "      <th></th>\n",
              "      <th>bluecars_taken_sum</th>\n",
              "      <th>bluecars_returned_sum</th>\n",
              "      <th>slots_freed_sum</th>\n",
              "      <th>slots_taken_sum</th>\n",
              "    </tr>\n",
              "  </thead>\n",
              "  <tbody>\n",
              "    <tr>\n",
              "      <th>22</th>\n",
              "      <td>112</td>\n",
              "      <td>113</td>\n",
              "      <td>11</td>\n",
              "      <td>9</td>\n",
              "    </tr>\n",
              "    <tr>\n",
              "      <th>29</th>\n",
              "      <td>103</td>\n",
              "      <td>103</td>\n",
              "      <td>11</td>\n",
              "      <td>11</td>\n",
              "    </tr>\n",
              "    <tr>\n",
              "      <th>36</th>\n",
              "      <td>118</td>\n",
              "      <td>118</td>\n",
              "      <td>12</td>\n",
              "      <td>11</td>\n",
              "    </tr>\n",
              "    <tr>\n",
              "      <th>49</th>\n",
              "      <td>85</td>\n",
              "      <td>86</td>\n",
              "      <td>12</td>\n",
              "      <td>12</td>\n",
              "    </tr>\n",
              "    <tr>\n",
              "      <th>50</th>\n",
              "      <td>100</td>\n",
              "      <td>98</td>\n",
              "      <td>11</td>\n",
              "      <td>11</td>\n",
              "    </tr>\n",
              "    <tr>\n",
              "      <th>...</th>\n",
              "      <td>...</td>\n",
              "      <td>...</td>\n",
              "      <td>...</td>\n",
              "      <td>...</td>\n",
              "    </tr>\n",
              "    <tr>\n",
              "      <th>16080</th>\n",
              "      <td>15</td>\n",
              "      <td>10</td>\n",
              "      <td>0</td>\n",
              "      <td>0</td>\n",
              "    </tr>\n",
              "    <tr>\n",
              "      <th>16081</th>\n",
              "      <td>19</td>\n",
              "      <td>19</td>\n",
              "      <td>0</td>\n",
              "      <td>0</td>\n",
              "    </tr>\n",
              "    <tr>\n",
              "      <th>16082</th>\n",
              "      <td>33</td>\n",
              "      <td>35</td>\n",
              "      <td>0</td>\n",
              "      <td>0</td>\n",
              "    </tr>\n",
              "    <tr>\n",
              "      <th>16083</th>\n",
              "      <td>11</td>\n",
              "      <td>14</td>\n",
              "      <td>0</td>\n",
              "      <td>0</td>\n",
              "    </tr>\n",
              "    <tr>\n",
              "      <th>16084</th>\n",
              "      <td>2</td>\n",
              "      <td>2</td>\n",
              "      <td>0</td>\n",
              "      <td>0</td>\n",
              "    </tr>\n",
              "  </tbody>\n",
              "</table>\n",
              "<p>12742 rows × 4 columns</p>\n",
              "</div>"
            ],
            "text/plain": [
              "       bluecars_taken_sum  ...  slots_taken_sum\n",
              "22                    112  ...                9\n",
              "29                    103  ...               11\n",
              "36                    118  ...               11\n",
              "49                     85  ...               12\n",
              "50                    100  ...               11\n",
              "...                   ...  ...              ...\n",
              "16080                  15  ...                0\n",
              "16081                  19  ...                0\n",
              "16082                  33  ...                0\n",
              "16083                  11  ...                0\n",
              "16084                   2  ...                0\n",
              "\n",
              "[12742 rows x 4 columns]"
            ]
          },
          "metadata": {
            "tags": []
          },
          "execution_count": 13
        }
      ]
    },
    {
      "cell_type": "markdown",
      "metadata": {
        "id": "kaXiJEepdBl2"
      },
      "source": [
        "Outliers are too many to remove and removing them will affect the data analysis since the data will be useful in arriving at our conclusion."
      ]
    },
    {
      "cell_type": "markdown",
      "metadata": {
        "id": "7o-t6t2oIk92"
      },
      "source": [
        "###UNIVARIATE ANALYSIS"
      ]
    },
    {
      "cell_type": "code",
      "metadata": {
        "colab": {
          "base_uri": "https://localhost:8080/",
          "height": 260
        },
        "id": "FXVA2Rh8IiXM",
        "outputId": "018ea98c-b399-405a-fb87-f6e38961d33c"
      },
      "source": [
        "#viewing descriptive statistics of our numerical variables\n",
        "autolib.describe().T"
      ],
      "execution_count": 14,
      "outputs": [
        {
          "output_type": "execute_result",
          "data": {
            "text/html": [
              "<div>\n",
              "<style scoped>\n",
              "    .dataframe tbody tr th:only-of-type {\n",
              "        vertical-align: middle;\n",
              "    }\n",
              "\n",
              "    .dataframe tbody tr th {\n",
              "        vertical-align: top;\n",
              "    }\n",
              "\n",
              "    .dataframe thead th {\n",
              "        text-align: right;\n",
              "    }\n",
              "</style>\n",
              "<table border=\"1\" class=\"dataframe\">\n",
              "  <thead>\n",
              "    <tr style=\"text-align: right;\">\n",
              "      <th></th>\n",
              "      <th>count</th>\n",
              "      <th>mean</th>\n",
              "      <th>std</th>\n",
              "      <th>min</th>\n",
              "      <th>25%</th>\n",
              "      <th>50%</th>\n",
              "      <th>75%</th>\n",
              "      <th>max</th>\n",
              "    </tr>\n",
              "  </thead>\n",
              "  <tbody>\n",
              "    <tr>\n",
              "      <th>postal_code</th>\n",
              "      <td>16085.0</td>\n",
              "      <td>88791.293876</td>\n",
              "      <td>7647.342000</td>\n",
              "      <td>75001.0</td>\n",
              "      <td>91330.0</td>\n",
              "      <td>92340.0</td>\n",
              "      <td>93400.0</td>\n",
              "      <td>95880.0</td>\n",
              "    </tr>\n",
              "    <tr>\n",
              "      <th>n_daily_data_points</th>\n",
              "      <td>16085.0</td>\n",
              "      <td>1431.330619</td>\n",
              "      <td>33.212050</td>\n",
              "      <td>1174.0</td>\n",
              "      <td>1439.0</td>\n",
              "      <td>1440.0</td>\n",
              "      <td>1440.0</td>\n",
              "      <td>1440.0</td>\n",
              "    </tr>\n",
              "    <tr>\n",
              "      <th>dayofweek</th>\n",
              "      <td>16085.0</td>\n",
              "      <td>2.969599</td>\n",
              "      <td>2.008378</td>\n",
              "      <td>0.0</td>\n",
              "      <td>1.0</td>\n",
              "      <td>3.0</td>\n",
              "      <td>5.0</td>\n",
              "      <td>6.0</td>\n",
              "    </tr>\n",
              "    <tr>\n",
              "      <th>bluecars_taken_sum</th>\n",
              "      <td>16085.0</td>\n",
              "      <td>125.926951</td>\n",
              "      <td>185.426579</td>\n",
              "      <td>0.0</td>\n",
              "      <td>20.0</td>\n",
              "      <td>46.0</td>\n",
              "      <td>135.0</td>\n",
              "      <td>1352.0</td>\n",
              "    </tr>\n",
              "    <tr>\n",
              "      <th>bluecars_returned_sum</th>\n",
              "      <td>16085.0</td>\n",
              "      <td>125.912714</td>\n",
              "      <td>185.501535</td>\n",
              "      <td>0.0</td>\n",
              "      <td>20.0</td>\n",
              "      <td>46.0</td>\n",
              "      <td>135.0</td>\n",
              "      <td>1332.0</td>\n",
              "    </tr>\n",
              "    <tr>\n",
              "      <th>slots_freed_sum</th>\n",
              "      <td>16085.0</td>\n",
              "      <td>22.629033</td>\n",
              "      <td>52.120263</td>\n",
              "      <td>0.0</td>\n",
              "      <td>0.0</td>\n",
              "      <td>0.0</td>\n",
              "      <td>5.0</td>\n",
              "      <td>360.0</td>\n",
              "    </tr>\n",
              "    <tr>\n",
              "      <th>slots_taken_sum</th>\n",
              "      <td>16085.0</td>\n",
              "      <td>22.629282</td>\n",
              "      <td>52.146030</td>\n",
              "      <td>0.0</td>\n",
              "      <td>0.0</td>\n",
              "      <td>0.0</td>\n",
              "      <td>5.0</td>\n",
              "      <td>359.0</td>\n",
              "    </tr>\n",
              "  </tbody>\n",
              "</table>\n",
              "</div>"
            ],
            "text/plain": [
              "                         count          mean  ...      75%      max\n",
              "postal_code            16085.0  88791.293876  ...  93400.0  95880.0\n",
              "n_daily_data_points    16085.0   1431.330619  ...   1440.0   1440.0\n",
              "dayofweek              16085.0      2.969599  ...      5.0      6.0\n",
              "bluecars_taken_sum     16085.0    125.926951  ...    135.0   1352.0\n",
              "bluecars_returned_sum  16085.0    125.912714  ...    135.0   1332.0\n",
              "slots_freed_sum        16085.0     22.629033  ...      5.0    360.0\n",
              "slots_taken_sum        16085.0     22.629282  ...      5.0    359.0\n",
              "\n",
              "[7 rows x 8 columns]"
            ]
          },
          "metadata": {
            "tags": []
          },
          "execution_count": 14
        }
      ]
    },
    {
      "cell_type": "code",
      "metadata": {
        "colab": {
          "base_uri": "https://localhost:8080/",
          "height": 1000
        },
        "id": "3t934b-QKGHs",
        "outputId": "6dccd757-5e59-42bf-ff3c-52fdcaadc8e0"
      },
      "source": [
        "#checking for outliers\n",
        "col_names = ['bluecars_taken_sum','bluecars_returned_sum', 'slots_freed_sum', 'slots_taken_sum']\n",
        "\n",
        "fig, ax = plt.subplots(len(col_names), figsize= (8,40))\n",
        "\n",
        "for i, col_val in enumerate(col_names):\n",
        "  sns.boxplot(y = autolib[col_val], ax= ax[i])\n",
        "  ax[i].set_title('Box plot - {}'.format(col_val), fontsize= 10)\n",
        "  ax[i].set_xlabel(col_val, fontsize= 8)\n",
        "plt.show()"
      ],
      "execution_count": 15,
      "outputs": [
        {
          "output_type": "display_data",
          "data": {
            "image/png": "[encoded data removed]",
            "text/plain": [
              "<Figure size 576x2880 with 4 Axes>"
            ]
          },
          "metadata": {
            "tags": [],
            "needs_background": "light"
          }
        }
      ]
    },
    {
      "cell_type": "markdown",
      "metadata": {
        "id": "AcYHVh8gdjBF"
      },
      "source": [
        "The outliers are too many"
      ]
    },
    {
      "cell_type": "code",
      "metadata": {
        "colab": {
          "base_uri": "https://localhost:8080/"
        },
        "id": "gH50PY97LMrp",
        "outputId": "768485ac-58bf-43e2-8260-c451b98d3d98"
      },
      "source": [
        "autolib.columns"
      ],
      "execution_count": 16,
      "outputs": [
        {
          "output_type": "execute_result",
          "data": {
            "text/plain": [
              "Index(['postal_code', 'date', 'n_daily_data_points', 'dayofweek', 'day_type',\n",
              "       'bluecars_taken_sum', 'bluecars_returned_sum', 'slots_freed_sum',\n",
              "       'slots_taken_sum', 'week_day'],\n",
              "      dtype='object')"
            ]
          },
          "metadata": {
            "tags": []
          },
          "execution_count": 16
        }
      ]
    },
    {
      "cell_type": "code",
      "metadata": {
        "colab": {
          "base_uri": "https://localhost:8080/",
          "height": 293
        },
        "id": "0IZUQzm3LXhZ",
        "outputId": "fd707969-4350-4647-a24d-16456b8d9446"
      },
      "source": [
        "#showing daily disrtibution\n",
        "autolib['week_day'].value_counts().plot.bar()"
      ],
      "execution_count": 17,
      "outputs": [
        {
          "output_type": "execute_result",
          "data": {
            "text/plain": [
              "<matplotlib.axes._subplots.AxesSubplot at 0x7fc2a45ce290>"
            ]
          },
          "metadata": {
            "tags": []
          },
          "execution_count": 17
        },
        {
          "output_type": "display_data",
          "data": {
            "image/png": "[encoded data removed]",
            "text/plain": [
              "<Figure size 432x288 with 1 Axes>"
            ]
          },
          "metadata": {
            "tags": [],
            "needs_background": "light"
          }
        }
      ]
    },
    {
      "cell_type": "code",
      "metadata": {
        "colab": {
          "base_uri": "https://localhost:8080/"
        },
        "id": "Deci8BK-LyKb",
        "outputId": "60a9037a-b731-44da-91bf-802a8d37e0fa"
      },
      "source": [
        "autolib['week_day'].value_counts().sort_values(ascending=False)"
      ],
      "execution_count": 18,
      "outputs": [
        {
          "output_type": "execute_result",
          "data": {
            "text/plain": [
              "Mon     2374\n",
              "Tue     2363\n",
              "Sun     2274\n",
              "Fri     2271\n",
              "Thur    2268\n",
              "Wed     2268\n",
              "Sat     2267\n",
              "Name: week_day, dtype: int64"
            ]
          },
          "metadata": {
            "tags": []
          },
          "execution_count": 18
        }
      ]
    },
    {
      "cell_type": "markdown",
      "metadata": {
        "id": "Amw6j6t0dqtR"
      },
      "source": [
        "Alot of data was collected on monday."
      ]
    },
    {
      "cell_type": "code",
      "metadata": {
        "colab": {
          "base_uri": "https://localhost:8080/",
          "height": 318
        },
        "id": "tr8D7kmYLREf",
        "outputId": "85450992-0142-4f39-b136-e14c2a9a5768"
      },
      "source": [
        "#comparing the data collected in weekdays and weekends\n",
        "autolib['day_type'].value_counts().plot.bar()"
      ],
      "execution_count": 19,
      "outputs": [
        {
          "output_type": "execute_result",
          "data": {
            "text/plain": [
              "<matplotlib.axes._subplots.AxesSubplot at 0x7fc2a454c210>"
            ]
          },
          "metadata": {
            "tags": []
          },
          "execution_count": 19
        },
        {
          "output_type": "display_data",
          "data": {
            "image/png": "[encoded data removed]",
            "text/plain": [
              "<Figure size 432x288 with 1 Axes>"
            ]
          },
          "metadata": {
            "tags": [],
            "needs_background": "light"
          }
        }
      ]
    },
    {
      "cell_type": "code",
      "metadata": {
        "colab": {
          "base_uri": "https://localhost:8080/"
        },
        "id": "v3wrd5rpMXaC",
        "outputId": "31a63c61-9bad-4b3c-f797-c13a757f654b"
      },
      "source": [
        "autolib['day_type'].value_counts()\n"
      ],
      "execution_count": 20,
      "outputs": [
        {
          "output_type": "execute_result",
          "data": {
            "text/plain": [
              "weekday    11544\n",
              "weekend     4541\n",
              "Name: day_type, dtype: int64"
            ]
          },
          "metadata": {
            "tags": []
          },
          "execution_count": 20
        }
      ]
    },
    {
      "cell_type": "code",
      "metadata": {
        "colab": {
          "base_uri": "https://localhost:8080/"
        },
        "id": "dCYg1mxYMsbS",
        "outputId": "1325c7e6-a4d8-42cc-c10f-522e42d91246"
      },
      "source": [
        "#blue cars taken descriptive statistics\n",
        "print('The mean of bluecars taken is:',autolib['bluecars_taken_sum'].mean())\n",
        "print('The median of bluecars taken is:',autolib['bluecars_taken_sum'].median())\n",
        "print('The mode of bluecars taken is:',autolib['bluecars_taken_sum'].mode())\n",
        "print('The standard deviation of bluecars taken is:',autolib['bluecars_taken_sum'].std())\n",
        "print('The skewness of bluecars taken is:',autolib['bluecars_taken_sum'].skew())\n",
        "print('The kurtosis of bluecars taken is:',autolib['bluecars_taken_sum'].kurt())"
      ],
      "execution_count": 21,
      "outputs": [
        {
          "output_type": "stream",
          "text": [
            "The mean of bluecars taken is: 125.92695057506994\n",
            "The median of bluecars taken is: 46.0\n",
            "The mode of bluecars taken is: 0    12\n",
            "dtype: int64\n",
            "The standard deviation of bluecars taken is: 185.42657876727893\n",
            "The skewness of bluecars taken is: 2.4063548974959086\n",
            "The kurtosis of bluecars taken is: 6.172692305510042\n"
          ],
          "name": "stdout"
        }
      ]
    },
    {
      "cell_type": "markdown",
      "metadata": {
        "id": "2r2gVG_nexUy"
      },
      "source": [
        "Data for the Blue cras taken was right skewed showing most values appeared on the right side.The Kurtosis was leptokurtic indicating the presence of outliers."
      ]
    },
    {
      "cell_type": "code",
      "metadata": {
        "colab": {
          "base_uri": "https://localhost:8080/"
        },
        "id": "5ijKc0A1N0U2",
        "outputId": "8cba4182-aff6-41b2-c56c-ba0d8b6f7079"
      },
      "source": [
        "#blue cars returned descriptive statistics\n",
        "print('The mean of bluecars returned is:',autolib['bluecars_returned_sum'].mean())\n",
        "print('The median of bluecars returned is:',autolib['bluecars_returned_sum'].median())\n",
        "print('The mode of bluecars returned is:',autolib['bluecars_returned_sum'].mode())\n",
        "print('The standard deviation of bluecars returned is:',autolib['bluecars_returned_sum'].std())\n",
        "print('The skewness of bluecars returned is:',autolib['bluecars_returned_sum'].skew())\n",
        "print('The kurtosis of bluecars returned is:',autolib['bluecars_returned_sum'].kurt())"
      ],
      "execution_count": 22,
      "outputs": [
        {
          "output_type": "stream",
          "text": [
            "The mean of bluecars returned is: 125.912713708424\n",
            "The median of bluecars returned is: 46.0\n",
            "The mode of bluecars returned is: 0    13\n",
            "dtype: int64\n",
            "The standard deviation of bluecars returned is: 185.50153480148427\n",
            "The skewness of bluecars returned is: 2.412084978838923\n",
            "The kurtosis of bluecars returned is: 6.1862880957582345\n"
          ],
          "name": "stdout"
        }
      ]
    },
    {
      "cell_type": "markdown",
      "metadata": {
        "id": "WPTLKN7efObA"
      },
      "source": [
        "Data for the Blue cras returned is right skewed showing most values appear on the right side.The Kurtosis was leptokurtic indicating the presence of outliers."
      ]
    },
    {
      "cell_type": "code",
      "metadata": {
        "colab": {
          "base_uri": "https://localhost:8080/"
        },
        "id": "SCdD6Wb6fylr",
        "outputId": "cb0a67c2-a2d0-436e-fb1d-d5eec9ee004d"
      },
      "source": [
        "print('The mean of slots freed is:',autolib['slots_freed_sum'].mean())\n",
        "print('The median of slots freed is:',autolib['slots_freed_sum'].median())\n",
        "print('The mode of slots freed is:',autolib['slots_freed_sum'].mode())\n",
        "print('The standard deviation of slots freed is:',autolib['slots_freed_sum'].std())\n",
        "print('The skewness of slots freed is:',autolib['slots_freed_sum'].skew())\n",
        "print('The kurtosis of slots freed is:',autolib['slots_freed_sum'].kurt())"
      ],
      "execution_count": 23,
      "outputs": [
        {
          "output_type": "stream",
          "text": [
            "The mean of slots freed is: 22.62903326080199\n",
            "The median of slots freed is: 0.0\n",
            "The mode of slots freed is: 0    0\n",
            "dtype: int64\n",
            "The standard deviation of slots freed is: 52.12026333757879\n",
            "The skewness of slots freed is: 2.5974057870090994\n",
            "The kurtosis of slots freed is: 6.454514382612528\n"
          ],
          "name": "stdout"
        }
      ]
    },
    {
      "cell_type": "markdown",
      "metadata": {
        "id": "XbiVKMzDg3rV"
      },
      "source": [
        "Data for the Slots freed is right skewed showing most values appear on the right side.The Kurtosis was leptokurtic indicating the presence of outliers."
      ]
    },
    {
      "cell_type": "code",
      "metadata": {
        "colab": {
          "base_uri": "https://localhost:8080/"
        },
        "id": "ddpc9ChPgZfj",
        "outputId": "e18b7ca3-f002-4321-cde9-df420897410d"
      },
      "source": [
        "print('The mean of slots taken is:',autolib['slots_taken_sum'].mean())\n",
        "print('The median of slots taken is:',autolib['slots_taken_sum'].median())\n",
        "print('The mode of slots taken is:',autolib['slots_taken_sum'].mode())\n",
        "print('The standard deviation of slots taken is:',autolib['slots_taken_sum'].std())\n",
        "print('The skewness of slots taken is:',autolib['slots_taken_sum'].skew())\n",
        "print('The kurtosis of slots taken is:',autolib['slots_taken_sum'].kurt())"
      ],
      "execution_count": 24,
      "outputs": [
        {
          "output_type": "stream",
          "text": [
            "The mean of slots taken is: 22.629281939695367\n",
            "The median of slots taken is: 0.0\n",
            "The mode of slots taken is: 0    0\n",
            "dtype: int64\n",
            "The standard deviation of slots taken is: 52.146029870452566\n",
            "The skewness of slots taken is: 2.5969043474634987\n",
            "The kurtosis of slots taken is: 6.442553073772169\n"
          ],
          "name": "stdout"
        }
      ]
    },
    {
      "cell_type": "markdown",
      "metadata": {
        "id": "5DQxP85ghArE"
      },
      "source": [
        "Data for the Slots taken was right skewed showing most values appear on the right side.The Kurtosis was leptokurtic indicating the presence of outliers."
      ]
    },
    {
      "cell_type": "code",
      "metadata": {
        "colab": {
          "base_uri": "https://localhost:8080/",
          "height": 648
        },
        "id": "ytggOxc9O2tw",
        "outputId": "76aa91d6-ef30-4106-aa0d-3d826e10e96f"
      },
      "source": [
        "# graphical representation of the univariate analysis\n",
        "\n",
        "bins = 10\n",
        "\n",
        "fig, (ax1,ax2,ax3, ax4) = plt.subplots(1, 4, figsize= (12,8))\n",
        "\n",
        "sns.distplot(autolib.bluecars_taken_sum, ax=ax1, bins= bins)\n",
        "sns.distplot(autolib.bluecars_returned_sum, ax=ax2, bins= bins)\n",
        "sns.distplot(autolib.slots_freed_sum, ax=ax3, bins= bins)\n",
        "sns.distplot(autolib.slots_taken_sum, ax=ax4, bins= bins)\n",
        "plt.show()"
      ],
      "execution_count": 25,
      "outputs": [
        {
          "output_type": "stream",
          "text": [
            "/usr/local/lib/python3.7/dist-packages/seaborn/distributions.py:2557: FutureWarning: `distplot` is a deprecated function and will be removed in a future version. Please adapt your code to use either `displot` (a figure-level function with similar flexibility) or `histplot` (an axes-level function for histograms).\n",
            "  warnings.warn(msg, FutureWarning)\n",
            "/usr/local/lib/python3.7/dist-packages/seaborn/distributions.py:2557: FutureWarning: `distplot` is a deprecated function and will be removed in a future version. Please adapt your code to use either `displot` (a figure-level function with similar flexibility) or `histplot` (an axes-level function for histograms).\n",
            "  warnings.warn(msg, FutureWarning)\n",
            "/usr/local/lib/python3.7/dist-packages/seaborn/distributions.py:2557: FutureWarning: `distplot` is a deprecated function and will be removed in a future version. Please adapt your code to use either `displot` (a figure-level function with similar flexibility) or `histplot` (an axes-level function for histograms).\n",
            "  warnings.warn(msg, FutureWarning)\n",
            "/usr/local/lib/python3.7/dist-packages/seaborn/distributions.py:2557: FutureWarning: `distplot` is a deprecated function and will be removed in a future version. Please adapt your code to use either `displot` (a figure-level function with similar flexibility) or `histplot` (an axes-level function for histograms).\n",
            "  warnings.warn(msg, FutureWarning)\n"
          ],
          "name": "stderr"
        },
        {
          "output_type": "display_data",
          "data": {
            "image/png": "[encoded data removed]",
            "text/plain": [
              "<Figure size 864x576 with 4 Axes>"
            ]
          },
          "metadata": {
            "tags": [],
            "needs_background": "light"
          }
        }
      ]
    },
    {
      "cell_type": "markdown",
      "metadata": {
        "id": "Js8XkftLQbXF"
      },
      "source": [
        "###BIVARIATE"
      ]
    },
    {
      "cell_type": "code",
      "metadata": {
        "colab": {
          "base_uri": "https://localhost:8080/"
        },
        "id": "Eq571ZjVQh1K",
        "outputId": "3fa4e10f-3f1f-41b6-ea8b-3567e30d03c2"
      },
      "source": [
        "autolib.columns"
      ],
      "execution_count": 26,
      "outputs": [
        {
          "output_type": "execute_result",
          "data": {
            "text/plain": [
              "Index(['postal_code', 'date', 'n_daily_data_points', 'dayofweek', 'day_type',\n",
              "       'bluecars_taken_sum', 'bluecars_returned_sum', 'slots_freed_sum',\n",
              "       'slots_taken_sum', 'week_day'],\n",
              "      dtype='object')"
            ]
          },
          "metadata": {
            "tags": []
          },
          "execution_count": 26
        }
      ]
    },
    {
      "cell_type": "markdown",
      "metadata": {
        "id": "a81RL3Mrh5kv"
      },
      "source": [
        ""
      ]
    },
    {
      "cell_type": "markdown",
      "metadata": {
        "id": "muoKgn4fiD4U"
      },
      "source": [
        "Continous variables"
      ]
    },
    {
      "cell_type": "code",
      "metadata": {
        "colab": {
          "base_uri": "https://localhost:8080/",
          "height": 726
        },
        "id": "LVD_6e3KQDTl",
        "outputId": "84e685cc-9fbf-4162-ad20-27b4b260b677"
      },
      "source": [
        "#summary of bivariate analysis \n",
        "sns.pairplot(autolib[['bluecars_taken_sum', 'bluecars_returned_sum', 'slots_freed_sum',\n",
        "       'slots_taken_sum']])\n",
        "plt.show()"
      ],
      "execution_count": 27,
      "outputs": [
        {
          "output_type": "display_data",
          "data": {
            "image/png": "[encoded data removed]",
            "text/plain": [
              "<Figure size 720x720 with 20 Axes>"
            ]
          },
          "metadata": {
            "tags": [],
            "needs_background": "light"
          }
        }
      ]
    },
    {
      "cell_type": "code",
      "metadata": {
        "colab": {
          "base_uri": "https://localhost:8080/",
          "height": 376
        },
        "id": "kOKT2ZYURWsr",
        "outputId": "4f5730cf-c1aa-44d7-94ef-bbc5fdb18805"
      },
      "source": [
        "sns.heatmap(autolib[['bluecars_taken_sum', 'bluecars_returned_sum', 'slots_freed_sum',\n",
        "       'slots_taken_sum']].corr(),annot=True)\n",
        "plt.show()"
      ],
      "execution_count": 28,
      "outputs": [
        {
          "output_type": "display_data",
          "data": {
            "image/png": "[encoded data removed]",
            "text/plain": [
              "<Figure size 432x288 with 2 Axes>"
            ]
          },
          "metadata": {
            "tags": [],
            "needs_background": "light"
          }
        }
      ]
    },
    {
      "cell_type": "markdown",
      "metadata": {
        "id": "9FED48DuiNAz"
      },
      "source": [
        "There is a positive correlation between the variables."
      ]
    },
    {
      "cell_type": "markdown",
      "metadata": {
        "id": "cpIA-gPOTzY0"
      },
      "source": [
        "###HYPOTHESIS TESTING"
      ]
    },
    {
      "cell_type": "code",
      "metadata": {
        "colab": {
          "base_uri": "https://localhost:8080/",
          "height": 408
        },
        "id": "vFdZGyIAv9rA",
        "outputId": "b1eeb9c8-2c11-49ff-ce7e-3c2f1f79c3cd"
      },
      "source": [
        "#selecting from the population blue cars taken on weekdays\n",
        "autolib=autolib[autolib['day_type']=='weekday']\n",
        "autolib"
      ],
      "execution_count": 29,
      "outputs": [
        {
          "output_type": "execute_result",
          "data": {
            "text/html": [
              "<div>\n",
              "<style scoped>\n",
              "    .dataframe tbody tr th:only-of-type {\n",
              "        vertical-align: middle;\n",
              "    }\n",
              "\n",
              "    .dataframe tbody tr th {\n",
              "        vertical-align: top;\n",
              "    }\n",
              "\n",
              "    .dataframe thead th {\n",
              "        text-align: right;\n",
              "    }\n",
              "</style>\n",
              "<table border=\"1\" class=\"dataframe\">\n",
              "  <thead>\n",
              "    <tr style=\"text-align: right;\">\n",
              "      <th></th>\n",
              "      <th>postal_code</th>\n",
              "      <th>date</th>\n",
              "      <th>n_daily_data_points</th>\n",
              "      <th>dayofweek</th>\n",
              "      <th>day_type</th>\n",
              "      <th>bluecars_taken_sum</th>\n",
              "      <th>bluecars_returned_sum</th>\n",
              "      <th>slots_freed_sum</th>\n",
              "      <th>slots_taken_sum</th>\n",
              "      <th>week_day</th>\n",
              "    </tr>\n",
              "  </thead>\n",
              "  <tbody>\n",
              "    <tr>\n",
              "      <th>0</th>\n",
              "      <td>75001</td>\n",
              "      <td>2018-01-01</td>\n",
              "      <td>1440</td>\n",
              "      <td>0</td>\n",
              "      <td>weekday</td>\n",
              "      <td>110</td>\n",
              "      <td>103</td>\n",
              "      <td>22</td>\n",
              "      <td>20</td>\n",
              "      <td>Mon</td>\n",
              "    </tr>\n",
              "    <tr>\n",
              "      <th>1</th>\n",
              "      <td>75001</td>\n",
              "      <td>2018-01-02</td>\n",
              "      <td>1438</td>\n",
              "      <td>1</td>\n",
              "      <td>weekday</td>\n",
              "      <td>98</td>\n",
              "      <td>94</td>\n",
              "      <td>23</td>\n",
              "      <td>22</td>\n",
              "      <td>Tue</td>\n",
              "    </tr>\n",
              "    <tr>\n",
              "      <th>2</th>\n",
              "      <td>75001</td>\n",
              "      <td>2018-01-03</td>\n",
              "      <td>1439</td>\n",
              "      <td>2</td>\n",
              "      <td>weekday</td>\n",
              "      <td>138</td>\n",
              "      <td>139</td>\n",
              "      <td>27</td>\n",
              "      <td>27</td>\n",
              "      <td>Wed</td>\n",
              "    </tr>\n",
              "    <tr>\n",
              "      <th>3</th>\n",
              "      <td>75001</td>\n",
              "      <td>2018-01-04</td>\n",
              "      <td>1320</td>\n",
              "      <td>3</td>\n",
              "      <td>weekday</td>\n",
              "      <td>104</td>\n",
              "      <td>104</td>\n",
              "      <td>25</td>\n",
              "      <td>21</td>\n",
              "      <td>Thur</td>\n",
              "    </tr>\n",
              "    <tr>\n",
              "      <th>4</th>\n",
              "      <td>75001</td>\n",
              "      <td>2018-01-05</td>\n",
              "      <td>1440</td>\n",
              "      <td>4</td>\n",
              "      <td>weekday</td>\n",
              "      <td>114</td>\n",
              "      <td>117</td>\n",
              "      <td>18</td>\n",
              "      <td>20</td>\n",
              "      <td>Fri</td>\n",
              "    </tr>\n",
              "    <tr>\n",
              "      <th>...</th>\n",
              "      <td>...</td>\n",
              "      <td>...</td>\n",
              "      <td>...</td>\n",
              "      <td>...</td>\n",
              "      <td>...</td>\n",
              "      <td>...</td>\n",
              "      <td>...</td>\n",
              "      <td>...</td>\n",
              "      <td>...</td>\n",
              "      <td>...</td>\n",
              "    </tr>\n",
              "    <tr>\n",
              "      <th>16078</th>\n",
              "      <td>95880</td>\n",
              "      <td>2018-06-13</td>\n",
              "      <td>1440</td>\n",
              "      <td>2</td>\n",
              "      <td>weekday</td>\n",
              "      <td>12</td>\n",
              "      <td>13</td>\n",
              "      <td>0</td>\n",
              "      <td>0</td>\n",
              "      <td>Wed</td>\n",
              "    </tr>\n",
              "    <tr>\n",
              "      <th>16079</th>\n",
              "      <td>95880</td>\n",
              "      <td>2018-06-14</td>\n",
              "      <td>1439</td>\n",
              "      <td>3</td>\n",
              "      <td>weekday</td>\n",
              "      <td>15</td>\n",
              "      <td>13</td>\n",
              "      <td>0</td>\n",
              "      <td>0</td>\n",
              "      <td>Thur</td>\n",
              "    </tr>\n",
              "    <tr>\n",
              "      <th>16080</th>\n",
              "      <td>95880</td>\n",
              "      <td>2018-06-15</td>\n",
              "      <td>1440</td>\n",
              "      <td>4</td>\n",
              "      <td>weekday</td>\n",
              "      <td>15</td>\n",
              "      <td>10</td>\n",
              "      <td>0</td>\n",
              "      <td>0</td>\n",
              "      <td>Fri</td>\n",
              "    </tr>\n",
              "    <tr>\n",
              "      <th>16083</th>\n",
              "      <td>95880</td>\n",
              "      <td>2018-06-18</td>\n",
              "      <td>1440</td>\n",
              "      <td>0</td>\n",
              "      <td>weekday</td>\n",
              "      <td>11</td>\n",
              "      <td>14</td>\n",
              "      <td>0</td>\n",
              "      <td>0</td>\n",
              "      <td>Mon</td>\n",
              "    </tr>\n",
              "    <tr>\n",
              "      <th>16084</th>\n",
              "      <td>95880</td>\n",
              "      <td>2018-06-19</td>\n",
              "      <td>1370</td>\n",
              "      <td>1</td>\n",
              "      <td>weekday</td>\n",
              "      <td>2</td>\n",
              "      <td>2</td>\n",
              "      <td>0</td>\n",
              "      <td>0</td>\n",
              "      <td>Tue</td>\n",
              "    </tr>\n",
              "  </tbody>\n",
              "</table>\n",
              "<p>11544 rows × 10 columns</p>\n",
              "</div>"
            ],
            "text/plain": [
              "       postal_code       date  ...  slots_taken_sum  week_day\n",
              "0            75001 2018-01-01  ...               20       Mon\n",
              "1            75001 2018-01-02  ...               22       Tue\n",
              "2            75001 2018-01-03  ...               27       Wed\n",
              "3            75001 2018-01-04  ...               21      Thur\n",
              "4            75001 2018-01-05  ...               20       Fri\n",
              "...            ...        ...  ...              ...       ...\n",
              "16078        95880 2018-06-13  ...                0       Wed\n",
              "16079        95880 2018-06-14  ...                0      Thur\n",
              "16080        95880 2018-06-15  ...                0       Fri\n",
              "16083        95880 2018-06-18  ...                0       Mon\n",
              "16084        95880 2018-06-19  ...                0       Tue\n",
              "\n",
              "[11544 rows x 10 columns]"
            ]
          },
          "metadata": {
            "tags": []
          },
          "execution_count": 29
        }
      ]
    },
    {
      "cell_type": "code",
      "metadata": {
        "colab": {
          "base_uri": "https://localhost:8080/"
        },
        "id": "MnYxS91UVHfs",
        "outputId": "240a9de2-898e-400d-f72c-0bf2f656797b"
      },
      "source": [
        "#conducting stratified sampling to get a sample with equal propotions to the population.\n",
        "autolib_strat = autolib.groupby('postal_code', group_keys=False).apply(lambda grouped_subset : grouped_subset.sample(frac=0.1))\n",
        "print(autolib_strat['postal_code'].value_counts())\n",
        "print(autolib_strat)"
      ],
      "execution_count": 30,
      "outputs": [
        {
          "output_type": "stream",
          "text": [
            "92150    11\n",
            "94700    11\n",
            "92400    11\n",
            "94450    11\n",
            "92410    11\n",
            "         ..\n",
            "92160    11\n",
            "92340    10\n",
            "93370    10\n",
            "93200     9\n",
            "93390     6\n",
            "Name: postal_code, Length: 104, dtype: int64\n",
            "       postal_code       date  ...  slots_taken_sum  week_day\n",
            "31           75001 2018-02-01  ...               20      Thur\n",
            "88           75001 2018-04-02  ...               19       Mon\n",
            "89           75001 2018-04-03  ...               22       Tue\n",
            "35           75001 2018-02-05  ...               18       Mon\n",
            "4            75001 2018-01-05  ...               20       Fri\n",
            "...            ...        ...  ...              ...       ...\n",
            "16055        95880 2018-05-21  ...                0       Mon\n",
            "15950        95880 2018-01-22  ...                0       Mon\n",
            "16007        95880 2018-03-23  ...                0       Fri\n",
            "15980        95880 2018-02-21  ...                0       Wed\n",
            "15993        95880 2018-03-09  ...                0       Fri\n",
            "\n",
            "[1135 rows x 10 columns]\n"
          ],
          "name": "stdout"
        }
      ]
    },
    {
      "cell_type": "code",
      "metadata": {
        "colab": {
          "base_uri": "https://localhost:8080/",
          "height": 408
        },
        "id": "RsOI7H-RYCWH",
        "outputId": "87b243bb-c219-4493-cb6b-4c7ec50f07ca"
      },
      "source": [
        "#viewing the stratified sample\n",
        "autolib_strat\n"
      ],
      "execution_count": 31,
      "outputs": [
        {
          "output_type": "execute_result",
          "data": {
            "text/html": [
              "<div>\n",
              "<style scoped>\n",
              "    .dataframe tbody tr th:only-of-type {\n",
              "        vertical-align: middle;\n",
              "    }\n",
              "\n",
              "    .dataframe tbody tr th {\n",
              "        vertical-align: top;\n",
              "    }\n",
              "\n",
              "    .dataframe thead th {\n",
              "        text-align: right;\n",
              "    }\n",
              "</style>\n",
              "<table border=\"1\" class=\"dataframe\">\n",
              "  <thead>\n",
              "    <tr style=\"text-align: right;\">\n",
              "      <th></th>\n",
              "      <th>postal_code</th>\n",
              "      <th>date</th>\n",
              "      <th>n_daily_data_points</th>\n",
              "      <th>dayofweek</th>\n",
              "      <th>day_type</th>\n",
              "      <th>bluecars_taken_sum</th>\n",
              "      <th>bluecars_returned_sum</th>\n",
              "      <th>slots_freed_sum</th>\n",
              "      <th>slots_taken_sum</th>\n",
              "      <th>week_day</th>\n",
              "    </tr>\n",
              "  </thead>\n",
              "  <tbody>\n",
              "    <tr>\n",
              "      <th>31</th>\n",
              "      <td>75001</td>\n",
              "      <td>2018-02-01</td>\n",
              "      <td>1440</td>\n",
              "      <td>3</td>\n",
              "      <td>weekday</td>\n",
              "      <td>112</td>\n",
              "      <td>110</td>\n",
              "      <td>21</td>\n",
              "      <td>20</td>\n",
              "      <td>Thur</td>\n",
              "    </tr>\n",
              "    <tr>\n",
              "      <th>88</th>\n",
              "      <td>75001</td>\n",
              "      <td>2018-04-02</td>\n",
              "      <td>1439</td>\n",
              "      <td>0</td>\n",
              "      <td>weekday</td>\n",
              "      <td>156</td>\n",
              "      <td>151</td>\n",
              "      <td>20</td>\n",
              "      <td>19</td>\n",
              "      <td>Mon</td>\n",
              "    </tr>\n",
              "    <tr>\n",
              "      <th>89</th>\n",
              "      <td>75001</td>\n",
              "      <td>2018-04-03</td>\n",
              "      <td>1440</td>\n",
              "      <td>1</td>\n",
              "      <td>weekday</td>\n",
              "      <td>112</td>\n",
              "      <td>111</td>\n",
              "      <td>22</td>\n",
              "      <td>22</td>\n",
              "      <td>Tue</td>\n",
              "    </tr>\n",
              "    <tr>\n",
              "      <th>35</th>\n",
              "      <td>75001</td>\n",
              "      <td>2018-02-05</td>\n",
              "      <td>1440</td>\n",
              "      <td>0</td>\n",
              "      <td>weekday</td>\n",
              "      <td>121</td>\n",
              "      <td>121</td>\n",
              "      <td>17</td>\n",
              "      <td>18</td>\n",
              "      <td>Mon</td>\n",
              "    </tr>\n",
              "    <tr>\n",
              "      <th>4</th>\n",
              "      <td>75001</td>\n",
              "      <td>2018-01-05</td>\n",
              "      <td>1440</td>\n",
              "      <td>4</td>\n",
              "      <td>weekday</td>\n",
              "      <td>114</td>\n",
              "      <td>117</td>\n",
              "      <td>18</td>\n",
              "      <td>20</td>\n",
              "      <td>Fri</td>\n",
              "    </tr>\n",
              "    <tr>\n",
              "      <th>...</th>\n",
              "      <td>...</td>\n",
              "      <td>...</td>\n",
              "      <td>...</td>\n",
              "      <td>...</td>\n",
              "      <td>...</td>\n",
              "      <td>...</td>\n",
              "      <td>...</td>\n",
              "      <td>...</td>\n",
              "      <td>...</td>\n",
              "      <td>...</td>\n",
              "    </tr>\n",
              "    <tr>\n",
              "      <th>16055</th>\n",
              "      <td>95880</td>\n",
              "      <td>2018-05-21</td>\n",
              "      <td>1440</td>\n",
              "      <td>0</td>\n",
              "      <td>weekday</td>\n",
              "      <td>26</td>\n",
              "      <td>27</td>\n",
              "      <td>0</td>\n",
              "      <td>0</td>\n",
              "      <td>Mon</td>\n",
              "    </tr>\n",
              "    <tr>\n",
              "      <th>15950</th>\n",
              "      <td>95880</td>\n",
              "      <td>2018-01-22</td>\n",
              "      <td>1440</td>\n",
              "      <td>0</td>\n",
              "      <td>weekday</td>\n",
              "      <td>3</td>\n",
              "      <td>9</td>\n",
              "      <td>0</td>\n",
              "      <td>0</td>\n",
              "      <td>Mon</td>\n",
              "    </tr>\n",
              "    <tr>\n",
              "      <th>16007</th>\n",
              "      <td>95880</td>\n",
              "      <td>2018-03-23</td>\n",
              "      <td>1440</td>\n",
              "      <td>4</td>\n",
              "      <td>weekday</td>\n",
              "      <td>13</td>\n",
              "      <td>12</td>\n",
              "      <td>0</td>\n",
              "      <td>0</td>\n",
              "      <td>Fri</td>\n",
              "    </tr>\n",
              "    <tr>\n",
              "      <th>15980</th>\n",
              "      <td>95880</td>\n",
              "      <td>2018-02-21</td>\n",
              "      <td>1440</td>\n",
              "      <td>2</td>\n",
              "      <td>weekday</td>\n",
              "      <td>5</td>\n",
              "      <td>7</td>\n",
              "      <td>0</td>\n",
              "      <td>0</td>\n",
              "      <td>Wed</td>\n",
              "    </tr>\n",
              "    <tr>\n",
              "      <th>15993</th>\n",
              "      <td>95880</td>\n",
              "      <td>2018-03-09</td>\n",
              "      <td>1440</td>\n",
              "      <td>4</td>\n",
              "      <td>weekday</td>\n",
              "      <td>9</td>\n",
              "      <td>13</td>\n",
              "      <td>0</td>\n",
              "      <td>0</td>\n",
              "      <td>Fri</td>\n",
              "    </tr>\n",
              "  </tbody>\n",
              "</table>\n",
              "<p>1135 rows × 10 columns</p>\n",
              "</div>"
            ],
            "text/plain": [
              "       postal_code       date  ...  slots_taken_sum  week_day\n",
              "31           75001 2018-02-01  ...               20      Thur\n",
              "88           75001 2018-04-02  ...               19       Mon\n",
              "89           75001 2018-04-03  ...               22       Tue\n",
              "35           75001 2018-02-05  ...               18       Mon\n",
              "4            75001 2018-01-05  ...               20       Fri\n",
              "...            ...        ...  ...              ...       ...\n",
              "16055        95880 2018-05-21  ...                0       Mon\n",
              "15950        95880 2018-01-22  ...                0       Mon\n",
              "16007        95880 2018-03-23  ...                0       Fri\n",
              "15980        95880 2018-02-21  ...                0       Wed\n",
              "15993        95880 2018-03-09  ...                0       Fri\n",
              "\n",
              "[1135 rows x 10 columns]"
            ]
          },
          "metadata": {
            "tags": []
          },
          "execution_count": 31
        }
      ]
    },
    {
      "cell_type": "markdown",
      "metadata": {
        "id": "9W9wYdt3lK2G"
      },
      "source": [
        "HYPOTHESES\n"
      ]
    },
    {
      "cell_type": "markdown",
      "metadata": {
        "id": "ut8QATDjP-b7"
      },
      "source": [
        "H0 : There is no significant statistical difference in  the mean of blue cars taken in postal codes 75015 and 95880.\n",
        "\n",
        "H1 : There is a significant statistical difference between the mean of blue cars taken in postal codes 75015 and 95880.\n"
      ]
    },
    {
      "cell_type": "code",
      "metadata": {
        "colab": {
          "base_uri": "https://localhost:8080/",
          "height": 381
        },
        "id": "1F4TgP6XZMJs",
        "outputId": "6905e651-f7d4-46b1-a856-44410be7c1f4"
      },
      "source": [
        "#Extracting data of postal code 75015 from the stratified sample\n",
        "autolib1= autolib_strat[(autolib_strat['postal_code'] == 75015)]\n",
        "autolib1"
      ],
      "execution_count": 32,
      "outputs": [
        {
          "output_type": "execute_result",
          "data": {
            "text/html": [
              "<div>\n",
              "<style scoped>\n",
              "    .dataframe tbody tr th:only-of-type {\n",
              "        vertical-align: middle;\n",
              "    }\n",
              "\n",
              "    .dataframe tbody tr th {\n",
              "        vertical-align: top;\n",
              "    }\n",
              "\n",
              "    .dataframe thead th {\n",
              "        text-align: right;\n",
              "    }\n",
              "</style>\n",
              "<table border=\"1\" class=\"dataframe\">\n",
              "  <thead>\n",
              "    <tr style=\"text-align: right;\">\n",
              "      <th></th>\n",
              "      <th>postal_code</th>\n",
              "      <th>date</th>\n",
              "      <th>n_daily_data_points</th>\n",
              "      <th>dayofweek</th>\n",
              "      <th>day_type</th>\n",
              "      <th>bluecars_taken_sum</th>\n",
              "      <th>bluecars_returned_sum</th>\n",
              "      <th>slots_freed_sum</th>\n",
              "      <th>slots_taken_sum</th>\n",
              "      <th>week_day</th>\n",
              "    </tr>\n",
              "  </thead>\n",
              "  <tbody>\n",
              "    <tr>\n",
              "      <th>2335</th>\n",
              "      <td>75015</td>\n",
              "      <td>2018-06-15</td>\n",
              "      <td>1440</td>\n",
              "      <td>4</td>\n",
              "      <td>weekday</td>\n",
              "      <td>1093</td>\n",
              "      <td>1056</td>\n",
              "      <td>288</td>\n",
              "      <td>294</td>\n",
              "      <td>Fri</td>\n",
              "    </tr>\n",
              "    <tr>\n",
              "      <th>2214</th>\n",
              "      <td>75015</td>\n",
              "      <td>2018-01-31</td>\n",
              "      <td>1440</td>\n",
              "      <td>2</td>\n",
              "      <td>weekday</td>\n",
              "      <td>816</td>\n",
              "      <td>839</td>\n",
              "      <td>226</td>\n",
              "      <td>235</td>\n",
              "      <td>Wed</td>\n",
              "    </tr>\n",
              "    <tr>\n",
              "      <th>2233</th>\n",
              "      <td>75015</td>\n",
              "      <td>2018-02-19</td>\n",
              "      <td>1420</td>\n",
              "      <td>0</td>\n",
              "      <td>weekday</td>\n",
              "      <td>650</td>\n",
              "      <td>688</td>\n",
              "      <td>192</td>\n",
              "      <td>202</td>\n",
              "      <td>Mon</td>\n",
              "    </tr>\n",
              "    <tr>\n",
              "      <th>2208</th>\n",
              "      <td>75015</td>\n",
              "      <td>2018-01-25</td>\n",
              "      <td>1398</td>\n",
              "      <td>3</td>\n",
              "      <td>weekday</td>\n",
              "      <td>871</td>\n",
              "      <td>838</td>\n",
              "      <td>235</td>\n",
              "      <td>233</td>\n",
              "      <td>Thur</td>\n",
              "    </tr>\n",
              "    <tr>\n",
              "      <th>2219</th>\n",
              "      <td>75015</td>\n",
              "      <td>2018-02-05</td>\n",
              "      <td>1440</td>\n",
              "      <td>0</td>\n",
              "      <td>weekday</td>\n",
              "      <td>808</td>\n",
              "      <td>807</td>\n",
              "      <td>249</td>\n",
              "      <td>247</td>\n",
              "      <td>Mon</td>\n",
              "    </tr>\n",
              "    <tr>\n",
              "      <th>2280</th>\n",
              "      <td>75015</td>\n",
              "      <td>2018-04-10</td>\n",
              "      <td>1440</td>\n",
              "      <td>1</td>\n",
              "      <td>weekday</td>\n",
              "      <td>887</td>\n",
              "      <td>875</td>\n",
              "      <td>254</td>\n",
              "      <td>254</td>\n",
              "      <td>Tue</td>\n",
              "    </tr>\n",
              "    <tr>\n",
              "      <th>2241</th>\n",
              "      <td>75015</td>\n",
              "      <td>2018-03-02</td>\n",
              "      <td>1440</td>\n",
              "      <td>4</td>\n",
              "      <td>weekday</td>\n",
              "      <td>897</td>\n",
              "      <td>860</td>\n",
              "      <td>253</td>\n",
              "      <td>255</td>\n",
              "      <td>Fri</td>\n",
              "    </tr>\n",
              "    <tr>\n",
              "      <th>2187</th>\n",
              "      <td>75015</td>\n",
              "      <td>2018-01-04</td>\n",
              "      <td>1320</td>\n",
              "      <td>3</td>\n",
              "      <td>weekday</td>\n",
              "      <td>669</td>\n",
              "      <td>644</td>\n",
              "      <td>165</td>\n",
              "      <td>158</td>\n",
              "      <td>Thur</td>\n",
              "    </tr>\n",
              "    <tr>\n",
              "      <th>2247</th>\n",
              "      <td>75015</td>\n",
              "      <td>2018-03-08</td>\n",
              "      <td>1439</td>\n",
              "      <td>3</td>\n",
              "      <td>weekday</td>\n",
              "      <td>790</td>\n",
              "      <td>778</td>\n",
              "      <td>229</td>\n",
              "      <td>227</td>\n",
              "      <td>Thur</td>\n",
              "    </tr>\n",
              "    <tr>\n",
              "      <th>2185</th>\n",
              "      <td>75015</td>\n",
              "      <td>2018-01-02</td>\n",
              "      <td>1438</td>\n",
              "      <td>1</td>\n",
              "      <td>weekday</td>\n",
              "      <td>710</td>\n",
              "      <td>720</td>\n",
              "      <td>191</td>\n",
              "      <td>193</td>\n",
              "      <td>Tue</td>\n",
              "    </tr>\n",
              "    <tr>\n",
              "      <th>2293</th>\n",
              "      <td>75015</td>\n",
              "      <td>2018-04-23</td>\n",
              "      <td>1417</td>\n",
              "      <td>0</td>\n",
              "      <td>weekday</td>\n",
              "      <td>672</td>\n",
              "      <td>704</td>\n",
              "      <td>176</td>\n",
              "      <td>180</td>\n",
              "      <td>Mon</td>\n",
              "    </tr>\n",
              "  </tbody>\n",
              "</table>\n",
              "</div>"
            ],
            "text/plain": [
              "      postal_code       date  ...  slots_taken_sum  week_day\n",
              "2335        75015 2018-06-15  ...              294       Fri\n",
              "2214        75015 2018-01-31  ...              235       Wed\n",
              "2233        75015 2018-02-19  ...              202       Mon\n",
              "2208        75015 2018-01-25  ...              233      Thur\n",
              "2219        75015 2018-02-05  ...              247       Mon\n",
              "2280        75015 2018-04-10  ...              254       Tue\n",
              "2241        75015 2018-03-02  ...              255       Fri\n",
              "2187        75015 2018-01-04  ...              158      Thur\n",
              "2247        75015 2018-03-08  ...              227      Thur\n",
              "2185        75015 2018-01-02  ...              193       Tue\n",
              "2293        75015 2018-04-23  ...              180       Mon\n",
              "\n",
              "[11 rows x 10 columns]"
            ]
          },
          "metadata": {
            "tags": []
          },
          "execution_count": 32
        }
      ]
    },
    {
      "cell_type": "code",
      "metadata": {
        "colab": {
          "base_uri": "https://localhost:8080/"
        },
        "id": "ntOHNx8kTGS2",
        "outputId": "af2f5de0-8441-43a8-e5ff-e9ee22d26636"
      },
      "source": [
        "#Getting the shape to determine the sample size of the strata\n",
        "autolib1.shape"
      ],
      "execution_count": 33,
      "outputs": [
        {
          "output_type": "execute_result",
          "data": {
            "text/plain": [
              "(11, 10)"
            ]
          },
          "metadata": {
            "tags": []
          },
          "execution_count": 33
        }
      ]
    },
    {
      "cell_type": "code",
      "metadata": {
        "colab": {
          "base_uri": "https://localhost:8080/",
          "height": 295
        },
        "id": "rYraCDfeVK9s",
        "outputId": "e621aa44-4434-4dbd-e2d8-b909c4ff5ec5"
      },
      "source": [
        "#ploting a probability plot to check for normality\n",
        "from scipy import stats\n",
        "stats.probplot(autolib1['bluecars_taken_sum'], plot= plt)\n",
        "plt.show()"
      ],
      "execution_count": 34,
      "outputs": [
        {
          "output_type": "display_data",
          "data": {
            "image/png": "[encoded data removed]",
            "text/plain": [
              "<Figure size 432x288 with 1 Axes>"
            ]
          },
          "metadata": {
            "tags": [],
            "needs_background": "light"
          }
        }
      ]
    },
    {
      "cell_type": "code",
      "metadata": {
        "colab": {
          "base_uri": "https://localhost:8080/"
        },
        "id": "H_NALMxvXrw3",
        "outputId": "87dc341e-df6d-4be1-b48d-174a63fd8940"
      },
      "source": [
        "#shapiro test\n",
        "#Running a statistical test to a certain if the variable is normally distributed\n",
        "from scipy.stats import shapiro \n",
        "stat, p = shapiro(autolib1['bluecars_taken_sum'])\n",
        "print('Statistics=%.3f, p=%.3f' % (stat, p))\n",
        "\n",
        "# interpreting\n",
        "alpha = 0.05\n",
        "if p > alpha:\n",
        "\tprint('Sample looks Gaussian')\n",
        "else:\n",
        "\tprint('Sample does not look Gaussian')"
      ],
      "execution_count": 35,
      "outputs": [
        {
          "output_type": "stream",
          "text": [
            "Statistics=0.917, p=0.292\n",
            "Sample looks Gaussian\n"
          ],
          "name": "stdout"
        }
      ]
    },
    {
      "cell_type": "code",
      "metadata": {
        "colab": {
          "base_uri": "https://localhost:8080/",
          "height": 381
        },
        "id": "u9BTYpsOZ5v5",
        "outputId": "2e4b6f59-ae7d-4a81-bc13-0d4224c13838"
      },
      "source": [
        "#Extracting data of postal code 75015 from the stratified sample\n",
        "autolib2= autolib_strat[(autolib_strat['postal_code'] == 95880)]\n",
        "autolib2"
      ],
      "execution_count": 36,
      "outputs": [
        {
          "output_type": "execute_result",
          "data": {
            "text/html": [
              "<div>\n",
              "<style scoped>\n",
              "    .dataframe tbody tr th:only-of-type {\n",
              "        vertical-align: middle;\n",
              "    }\n",
              "\n",
              "    .dataframe tbody tr th {\n",
              "        vertical-align: top;\n",
              "    }\n",
              "\n",
              "    .dataframe thead th {\n",
              "        text-align: right;\n",
              "    }\n",
              "</style>\n",
              "<table border=\"1\" class=\"dataframe\">\n",
              "  <thead>\n",
              "    <tr style=\"text-align: right;\">\n",
              "      <th></th>\n",
              "      <th>postal_code</th>\n",
              "      <th>date</th>\n",
              "      <th>n_daily_data_points</th>\n",
              "      <th>dayofweek</th>\n",
              "      <th>day_type</th>\n",
              "      <th>bluecars_taken_sum</th>\n",
              "      <th>bluecars_returned_sum</th>\n",
              "      <th>slots_freed_sum</th>\n",
              "      <th>slots_taken_sum</th>\n",
              "      <th>week_day</th>\n",
              "    </tr>\n",
              "  </thead>\n",
              "  <tbody>\n",
              "    <tr>\n",
              "      <th>16004</th>\n",
              "      <td>95880</td>\n",
              "      <td>2018-03-20</td>\n",
              "      <td>1440</td>\n",
              "      <td>1</td>\n",
              "      <td>weekday</td>\n",
              "      <td>13</td>\n",
              "      <td>12</td>\n",
              "      <td>0</td>\n",
              "      <td>0</td>\n",
              "      <td>Tue</td>\n",
              "    </tr>\n",
              "    <tr>\n",
              "      <th>15961</th>\n",
              "      <td>95880</td>\n",
              "      <td>2018-02-02</td>\n",
              "      <td>1440</td>\n",
              "      <td>4</td>\n",
              "      <td>weekday</td>\n",
              "      <td>17</td>\n",
              "      <td>15</td>\n",
              "      <td>0</td>\n",
              "      <td>0</td>\n",
              "      <td>Fri</td>\n",
              "    </tr>\n",
              "    <tr>\n",
              "      <th>15931</th>\n",
              "      <td>95880</td>\n",
              "      <td>2018-01-03</td>\n",
              "      <td>1439</td>\n",
              "      <td>2</td>\n",
              "      <td>weekday</td>\n",
              "      <td>7</td>\n",
              "      <td>13</td>\n",
              "      <td>0</td>\n",
              "      <td>0</td>\n",
              "      <td>Wed</td>\n",
              "    </tr>\n",
              "    <tr>\n",
              "      <th>15954</th>\n",
              "      <td>95880</td>\n",
              "      <td>2018-01-26</td>\n",
              "      <td>1437</td>\n",
              "      <td>4</td>\n",
              "      <td>weekday</td>\n",
              "      <td>9</td>\n",
              "      <td>7</td>\n",
              "      <td>0</td>\n",
              "      <td>0</td>\n",
              "      <td>Fri</td>\n",
              "    </tr>\n",
              "    <tr>\n",
              "      <th>16057</th>\n",
              "      <td>95880</td>\n",
              "      <td>2018-05-23</td>\n",
              "      <td>1174</td>\n",
              "      <td>2</td>\n",
              "      <td>weekday</td>\n",
              "      <td>14</td>\n",
              "      <td>12</td>\n",
              "      <td>0</td>\n",
              "      <td>0</td>\n",
              "      <td>Wed</td>\n",
              "    </tr>\n",
              "    <tr>\n",
              "      <th>16078</th>\n",
              "      <td>95880</td>\n",
              "      <td>2018-06-13</td>\n",
              "      <td>1440</td>\n",
              "      <td>2</td>\n",
              "      <td>weekday</td>\n",
              "      <td>12</td>\n",
              "      <td>13</td>\n",
              "      <td>0</td>\n",
              "      <td>0</td>\n",
              "      <td>Wed</td>\n",
              "    </tr>\n",
              "    <tr>\n",
              "      <th>16055</th>\n",
              "      <td>95880</td>\n",
              "      <td>2018-05-21</td>\n",
              "      <td>1440</td>\n",
              "      <td>0</td>\n",
              "      <td>weekday</td>\n",
              "      <td>26</td>\n",
              "      <td>27</td>\n",
              "      <td>0</td>\n",
              "      <td>0</td>\n",
              "      <td>Mon</td>\n",
              "    </tr>\n",
              "    <tr>\n",
              "      <th>15950</th>\n",
              "      <td>95880</td>\n",
              "      <td>2018-01-22</td>\n",
              "      <td>1440</td>\n",
              "      <td>0</td>\n",
              "      <td>weekday</td>\n",
              "      <td>3</td>\n",
              "      <td>9</td>\n",
              "      <td>0</td>\n",
              "      <td>0</td>\n",
              "      <td>Mon</td>\n",
              "    </tr>\n",
              "    <tr>\n",
              "      <th>16007</th>\n",
              "      <td>95880</td>\n",
              "      <td>2018-03-23</td>\n",
              "      <td>1440</td>\n",
              "      <td>4</td>\n",
              "      <td>weekday</td>\n",
              "      <td>13</td>\n",
              "      <td>12</td>\n",
              "      <td>0</td>\n",
              "      <td>0</td>\n",
              "      <td>Fri</td>\n",
              "    </tr>\n",
              "    <tr>\n",
              "      <th>15980</th>\n",
              "      <td>95880</td>\n",
              "      <td>2018-02-21</td>\n",
              "      <td>1440</td>\n",
              "      <td>2</td>\n",
              "      <td>weekday</td>\n",
              "      <td>5</td>\n",
              "      <td>7</td>\n",
              "      <td>0</td>\n",
              "      <td>0</td>\n",
              "      <td>Wed</td>\n",
              "    </tr>\n",
              "    <tr>\n",
              "      <th>15993</th>\n",
              "      <td>95880</td>\n",
              "      <td>2018-03-09</td>\n",
              "      <td>1440</td>\n",
              "      <td>4</td>\n",
              "      <td>weekday</td>\n",
              "      <td>9</td>\n",
              "      <td>13</td>\n",
              "      <td>0</td>\n",
              "      <td>0</td>\n",
              "      <td>Fri</td>\n",
              "    </tr>\n",
              "  </tbody>\n",
              "</table>\n",
              "</div>"
            ],
            "text/plain": [
              "       postal_code       date  ...  slots_taken_sum  week_day\n",
              "16004        95880 2018-03-20  ...                0       Tue\n",
              "15961        95880 2018-02-02  ...                0       Fri\n",
              "15931        95880 2018-01-03  ...                0       Wed\n",
              "15954        95880 2018-01-26  ...                0       Fri\n",
              "16057        95880 2018-05-23  ...                0       Wed\n",
              "16078        95880 2018-06-13  ...                0       Wed\n",
              "16055        95880 2018-05-21  ...                0       Mon\n",
              "15950        95880 2018-01-22  ...                0       Mon\n",
              "16007        95880 2018-03-23  ...                0       Fri\n",
              "15980        95880 2018-02-21  ...                0       Wed\n",
              "15993        95880 2018-03-09  ...                0       Fri\n",
              "\n",
              "[11 rows x 10 columns]"
            ]
          },
          "metadata": {
            "tags": []
          },
          "execution_count": 36
        }
      ]
    },
    {
      "cell_type": "code",
      "metadata": {
        "colab": {
          "base_uri": "https://localhost:8080/",
          "height": 295
        },
        "id": "v2hCJW7WVkQE",
        "outputId": "70917035-8a9b-4ced-fa4a-41c717222d3c"
      },
      "source": [
        "#Plotting a probability plot to check if the data is normally distributed\n",
        "from scipy import stats\n",
        "stats.probplot(autolib2['bluecars_taken_sum'], plot= plt)\n",
        "plt.show()"
      ],
      "execution_count": 37,
      "outputs": [
        {
          "output_type": "display_data",
          "data": {
            "image/png": "[encoded data removed]",
            "text/plain": [
              "<Figure size 432x288 with 1 Axes>"
            ]
          },
          "metadata": {
            "tags": [],
            "needs_background": "light"
          }
        }
      ]
    },
    {
      "cell_type": "code",
      "metadata": {
        "colab": {
          "base_uri": "https://localhost:8080/"
        },
        "id": "Hf9V6gO4YGkd",
        "outputId": "66dbad0a-d5bb-4fe8-c64a-0aadaf59cec1"
      },
      "source": [
        "#Running Shapiro wilk test to acertain that the data in the variable is normally distributed\n",
        "stat, p = shapiro(autolib2['bluecars_taken_sum'])\n",
        "print('Statistics=%.3f, p=%.3f' % (stat, p))\n",
        "\n",
        "# interpreting\n",
        "alpha = 0.05\n",
        "if p > alpha:\n",
        "\tprint('Sample looks Gaussian')\n",
        "else:\n",
        "\tprint('Sample does not look Gaussian')"
      ],
      "execution_count": 38,
      "outputs": [
        {
          "output_type": "stream",
          "text": [
            "Statistics=0.934, p=0.452\n",
            "Sample looks Gaussian\n"
          ],
          "name": "stdout"
        }
      ]
    },
    {
      "cell_type": "code",
      "metadata": {
        "colab": {
          "base_uri": "https://localhost:8080/"
        },
        "id": "X6gln8n1TLMV",
        "outputId": "ecccc4f8-df41-4d8f-b9a8-2bba08d9c7d3"
      },
      "source": [
        "#Getting the shape of the dataset to determine the sample size of the stratum\n",
        "autolib2.shape"
      ],
      "execution_count": 39,
      "outputs": [
        {
          "output_type": "execute_result",
          "data": {
            "text/plain": [
              "(11, 10)"
            ]
          },
          "metadata": {
            "tags": []
          },
          "execution_count": 39
        }
      ]
    },
    {
      "cell_type": "markdown",
      "metadata": {
        "id": "h8R_IBpJu4IZ"
      },
      "source": [
        "Since the sample size of both stratas is less than 30 we decided to use T-test ."
      ]
    },
    {
      "cell_type": "markdown",
      "metadata": {
        "id": "IM2PTYgPacWm"
      },
      "source": [
        "##T-test"
      ]
    },
    {
      "cell_type": "code",
      "metadata": {
        "colab": {
          "base_uri": "https://localhost:8080/"
        },
        "id": "IMBI-hp6aYIo",
        "outputId": "538098f8-0c47-4307-ad00-e58e34b29d3c"
      },
      "source": [
        "# Computing the T-Statistics and the P value\n",
        "# importing stats\n",
        "from scipy.stats import ttest_ind\n",
        "\n",
        "\n",
        "t_stat,p_value = ttest_ind(autolib1['bluecars_taken_sum'],autolib2['bluecars_taken_sum'])\n",
        "\n",
        "print('The test Statistics is :',t_stat,'The P Value is: ',p_value)"
      ],
      "execution_count": 40,
      "outputs": [
        {
          "output_type": "stream",
          "text": [
            "The test Statistics is : 20.05436289088982 The P Value is:  1.0254393310294808e-14\n"
          ],
          "name": "stdout"
        }
      ]
    },
    {
      "cell_type": "code",
      "metadata": {
        "colab": {
          "base_uri": "https://localhost:8080/"
        },
        "id": "PORNFc4eLvDA",
        "outputId": "d8dd52d4-6a4b-4f1e-fc80-9bd83240f4a7"
      },
      "source": [
        "#calculating the point estimate\n",
        "point_estimate=autolib1['bluecars_taken_sum'].mean()-autolib2['bluecars_taken_sum'].mean()\n",
        "point_estimate\n",
        "print('The point estimate is :',point_estimate)"
      ],
      "execution_count": 41,
      "outputs": [
        {
          "output_type": "stream",
          "text": [
            "The point estimate is : 794.0909090909091\n"
          ],
          "name": "stdout"
        }
      ]
    },
    {
      "cell_type": "code",
      "metadata": {
        "colab": {
          "base_uri": "https://localhost:8080/"
        },
        "id": "cFI8lj8fMgmR",
        "outputId": "a921b28d-d428-456c-d4f4-e6f7ff8af361"
      },
      "source": [
        "#calculating the confidence interval\n",
        "from math import sqrt\n",
        "from scipy.stats import t\n",
        "N1 = 11\n",
        "N2 = 11\n",
        "df = (N1 + N2 - 2)\n",
        "std1 = autolib1['bluecars_taken_sum'].std()\n",
        "std2 = autolib1['bluecars_taken_sum'].std()\n",
        "#pooled standard deviation\n",
        "std_N1N2 = sqrt( ((N1 - 1)*(std1)**2 + (N2 - 1)*(std2)**2) / df) \n",
        "#margin of error\n",
        "MoE = t.ppf(0.975, df) * std_N1N2 * sqrt(1/N1 + 1/N2)\n",
        "# confidence interval\n",
        "confidence_interval=[point_estimate - MoE, point_estimate + MoE]\n",
        "print('The Confidence Interval is :',confidence_interval)"
      ],
      "execution_count": 42,
      "outputs": [
        {
          "output_type": "stream",
          "text": [
            "The Confidence Interval is : [677.4151374188373, 910.766680762981]\n"
          ],
          "name": "stdout"
        }
      ]
    },
    {
      "cell_type": "markdown",
      "metadata": {
        "id": "_jHnToWir173"
      },
      "source": [
        "##COCLUSION\n"
      ]
    },
    {
      "cell_type": "code",
      "metadata": {
        "colab": {
          "base_uri": "https://localhost:8080/"
        },
        "id": "wuZm77earbES",
        "outputId": "80ad6303-6ea2-4857-a546-18b8c33e507f"
      },
      "source": [
        "#conclusion\n",
        "if p_value >0.025:\n",
        "  print('We fail to reject the Null Hypothesis')\n",
        "else:\n",
        "  print('We Reject the Null Hypothesis')"
      ],
      "execution_count": 43,
      "outputs": [
        {
          "output_type": "stream",
          "text": [
            "We Reject the Null Hypothesis\n"
          ],
          "name": "stdout"
        }
      ]
    },
    {
      "cell_type": "markdown",
      "metadata": {
        "id": "SVeMC0Xbr7CK"
      },
      "source": [
        "Since the P Value is less than the level of significance we reject the Null Hypothesis and conclude that there is a statistical significant difference between the means of Blue Cars taken in postal codes 75015 and 95880."
      ]
    }
  ]
}